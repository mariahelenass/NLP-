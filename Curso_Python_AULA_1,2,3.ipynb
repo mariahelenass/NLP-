{
  "nbformat": 4,
  "nbformat_minor": 0,
  "metadata": {
    "colab": {
      "name": "Curso Python - AULA 1,2,3",
      "provenance": [],
      "collapsed_sections": [],
      "authorship_tag": "ABX9TyMG1ErCBzyDzSiPkSjfEYP/",
      "include_colab_link": true
    },
    "kernelspec": {
      "name": "python3",
      "display_name": "Python 3"
    },
    "language_info": {
      "name": "python"
    }
  },
  "cells": [
    {
      "cell_type": "markdown",
      "metadata": {
        "id": "view-in-github",
        "colab_type": "text"
      },
      "source": [
        "<a href=\"https://colab.research.google.com/github/mariahelenass/NLP-/blob/main/Curso_Python_AULA_1%2C2%2C3.ipynb\" target=\"_parent\"><img src=\"https://colab.research.google.com/assets/colab-badge.svg\" alt=\"Open In Colab\"/></a>"
      ]
    },
    {
      "cell_type": "code",
      "metadata": {
        "id": "osPPLfApk-Qe"
      },
      "source": [
        ""
      ],
      "execution_count": null,
      "outputs": []
    },
    {
      "cell_type": "markdown",
      "metadata": {
        "id": "VAQnRsD6ObHF"
      },
      "source": [
        "TESTANDO PYTHON\n",
        "\n"
      ]
    },
    {
      "cell_type": "code",
      "metadata": {
        "colab": {
          "base_uri": "https://localhost:8080/"
        },
        "id": "Y9PwwZJ0OcAc",
        "outputId": "66a1990e-4e79-4b3c-e439-05da82818a41"
      },
      "source": [
        "print (\"CURSO DE PYTHON PARA PLN - PARTE 1\")"
      ],
      "execution_count": null,
      "outputs": [
        {
          "output_type": "stream",
          "name": "stdout",
          "text": [
            "CURSO DE PYTHON PARA PLN - PARTE 1\n"
          ]
        }
      ]
    },
    {
      "cell_type": "markdown",
      "metadata": {
        "id": "G_bRNNr9VYEp"
      },
      "source": [
        "INTRODUÇÃO PYTHON\n"
      ]
    },
    {
      "cell_type": "code",
      "metadata": {
        "colab": {
          "base_uri": "https://localhost:8080/"
        },
        "id": "2ewaLMABbx_S",
        "outputId": "b4b92bd7-0185-4b97-cefe-5331b922e2c7"
      },
      "source": [
        "y = \"maria helena\"\n",
        "print (y)"
      ],
      "execution_count": null,
      "outputs": [
        {
          "output_type": "stream",
          "name": "stdout",
          "text": [
            "maria helena\n"
          ]
        }
      ]
    },
    {
      "cell_type": "code",
      "metadata": {
        "colab": {
          "base_uri": "https://localhost:8080/"
        },
        "id": "Ebg0DJzUw4uN",
        "outputId": "3146d9d2-0bbb-4a09-b4d9-a82ba8041c05"
      },
      "source": [
        "type(y)"
      ],
      "execution_count": null,
      "outputs": [
        {
          "output_type": "execute_result",
          "data": {
            "text/plain": [
              "str"
            ]
          },
          "metadata": {},
          "execution_count": 5
        }
      ]
    },
    {
      "cell_type": "code",
      "metadata": {
        "id": "Y_i_-C9Zy5Oc"
      },
      "source": [
        "v1 = \"1\"\n",
        "v2 = 1\n"
      ],
      "execution_count": null,
      "outputs": []
    },
    {
      "cell_type": "code",
      "metadata": {
        "colab": {
          "base_uri": "https://localhost:8080/"
        },
        "id": "6zSf8SuX0X-R",
        "outputId": "125145e2-94db-48e0-ec3a-2fee5e32fb59"
      },
      "source": [
        "for i in range(5):  \n",
        "  print(i)"
      ],
      "execution_count": null,
      "outputs": [
        {
          "output_type": "stream",
          "name": "stdout",
          "text": [
            "0\n",
            "1\n",
            "2\n",
            "3\n",
            "4\n"
          ]
        }
      ]
    },
    {
      "cell_type": "code",
      "metadata": {
        "id": "KPIzbklB1iYv",
        "colab": {
          "base_uri": "https://localhost:8080/"
        },
        "outputId": "6ec60a70-2113-40ab-9f2f-90dd0136d878"
      },
      "source": [
        "lista = []\n",
        "lista = list (range(5))\n",
        "lista = [0,1,2,3,4]\n",
        "print(lista)"
      ],
      "execution_count": null,
      "outputs": [
        {
          "output_type": "stream",
          "name": "stdout",
          "text": [
            "[0, 1, 2, 3, 4]\n"
          ]
        }
      ]
    },
    {
      "cell_type": "code",
      "metadata": {
        "colab": {
          "base_uri": "https://localhost:8080/"
        },
        "id": "B-P2JZmQvAbd",
        "outputId": "33d74452-fedf-45c8-e684-a2e464107224"
      },
      "source": [
        "lista = []\n",
        "lista = list (range(5))\n",
        "lista = [0,1,2,3,4]\n",
        "print(type (lista))"
      ],
      "execution_count": null,
      "outputs": [
        {
          "output_type": "stream",
          "name": "stdout",
          "text": [
            "<class 'list'>\n"
          ]
        }
      ]
    },
    {
      "cell_type": "code",
      "metadata": {
        "id": "aRvol4MZusl1"
      },
      "source": [
        "lista.append(5) #adicionar valor no final da lista\n",
        "print (lista)"
      ],
      "execution_count": null,
      "outputs": []
    },
    {
      "cell_type": "code",
      "metadata": {
        "colab": {
          "base_uri": "https://localhost:8080/"
        },
        "id": "PXK_BQrfudQQ",
        "outputId": "5d28a733-d21c-4ce9-e2a3-05ac8a1a27eb"
      },
      "source": [
        "lista[1] = 5 \n",
        "print(lista)"
      ],
      "execution_count": null,
      "outputs": [
        {
          "output_type": "stream",
          "name": "stdout",
          "text": [
            "[0, 5, 2, 3, 4, 5, 5, 5, 5, 5, 5, 5, 5]\n"
          ]
        }
      ]
    },
    {
      "cell_type": "code",
      "metadata": {
        "colab": {
          "base_uri": "https://localhost:8080/"
        },
        "id": "uHdGRbwjwS4h",
        "outputId": "46a47d94-1f7d-4dac-e53e-fb47a3adf982"
      },
      "source": [
        "lista.insert(0,6) #adicionar 6 na posição 0 \n",
        "print (lista)"
      ],
      "execution_count": null,
      "outputs": [
        {
          "output_type": "stream",
          "name": "stdout",
          "text": [
            "[6, 0, 5, 2, 3, 4, 5, 5, 5, 5, 5, 5, 5, 5, 5]\n"
          ]
        }
      ]
    },
    {
      "cell_type": "code",
      "metadata": {
        "colab": {
          "base_uri": "https://localhost:8080/"
        },
        "id": "6EbPRAkcwvue",
        "outputId": "4a79c5e3-7c45-4cef-fa10-d41c4943df54"
      },
      "source": [
        "lista.reverse() #reverter valores da lista, nao precisa nada dentro dosp parenteses\n",
        "print(lista)"
      ],
      "execution_count": null,
      "outputs": [
        {
          "output_type": "stream",
          "name": "stdout",
          "text": [
            "[6, 0, 5, 2, 3, 4, 5, 5, 5, 5, 5, 5, 5, 5, 5]\n"
          ]
        }
      ]
    },
    {
      "cell_type": "code",
      "metadata": {
        "colab": {
          "base_uri": "https://localhost:8080/"
        },
        "id": "3-VyhlHUx4it",
        "outputId": "8bad40e8-6505-49c5-82eb-822fdfc3be31"
      },
      "source": [
        "lista.sort() #ordernar a lista \n",
        "print(lista)"
      ],
      "execution_count": null,
      "outputs": [
        {
          "output_type": "stream",
          "name": "stdout",
          "text": [
            "[0, 2, 3, 4, 5, 5, 5, 5, 5, 5, 5, 5, 5, 5, 6]\n"
          ]
        }
      ]
    },
    {
      "cell_type": "code",
      "metadata": {
        "colab": {
          "base_uri": "https://localhost:8080/"
        },
        "id": "DL1Qd-89yuxF",
        "outputId": "2613dcb5-535e-4a69-fbf1-c522c4dd6a90"
      },
      "source": [
        "lista.count(6) #quantos vezes aparece o elemento x"
      ],
      "execution_count": null,
      "outputs": [
        {
          "output_type": "execute_result",
          "data": {
            "text/plain": [
              "1"
            ]
          },
          "metadata": {},
          "execution_count": 28
        }
      ]
    },
    {
      "cell_type": "code",
      "metadata": {
        "colab": {
          "base_uri": "https://localhost:8080/"
        },
        "id": "ICYwP1_ezJlz",
        "outputId": "d3b7747f-a4b9-4137-a3c1-b42a77bf0a83"
      },
      "source": [
        "lista.index(6) #qual a posição de x elemento, mostra a primeira ocorrência de x"
      ],
      "execution_count": null,
      "outputs": [
        {
          "output_type": "execute_result",
          "data": {
            "text/plain": [
              "14"
            ]
          },
          "metadata": {},
          "execution_count": 29
        }
      ]
    },
    {
      "cell_type": "code",
      "metadata": {
        "colab": {
          "base_uri": "https://localhost:8080/"
        },
        "id": "nM1QPGElz6el",
        "outputId": "194aea1e-da55-4404-804e-c8d9901bd2b6"
      },
      "source": [
        "lista2 = list(range(10))\n",
        "print(lista2)\n",
        "print(lista2[2:7]) # Assim, no nosso exemplo, queremos do 3º elemento até o 7º"
      ],
      "execution_count": null,
      "outputs": [
        {
          "output_type": "stream",
          "name": "stdout",
          "text": [
            "[0, 1, 2, 3, 4, 5, 6, 7, 8, 9]\n",
            "[2, 3, 4, 5, 6]\n"
          ]
        }
      ]
    },
    {
      "cell_type": "code",
      "metadata": {
        "colab": {
          "base_uri": "https://localhost:8080/"
        },
        "id": "Ng4zWyzu3vey",
        "outputId": "0fa64fba-537b-40f7-c879-c5aedc1fcd5c"
      },
      "source": [
        "print(lista2[2:7:2]) #significa que queremos uma sublista do 3º ao 7º elemento, pulando de 2 em 2 elementos. \n"
      ],
      "execution_count": null,
      "outputs": [
        {
          "output_type": "stream",
          "name": "stdout",
          "text": [
            "[2, 4, 6]\n"
          ]
        }
      ]
    },
    {
      "cell_type": "code",
      "metadata": {
        "colab": {
          "base_uri": "https://localhost:8080/"
        },
        "id": "xhKE4_GZFxwk",
        "outputId": "b93ea401-299b-4627-cf60-78ca9e74a955"
      },
      "source": [
        "t = (1, 'maria', 2 , 'helena') #não pode modificar os elementos, apenas na atribuição!!\n",
        "print(t)\n"
      ],
      "execution_count": null,
      "outputs": [
        {
          "output_type": "stream",
          "name": "stdout",
          "text": [
            "(1, 'maria', 2, 'helena')\n"
          ]
        }
      ]
    },
    {
      "cell_type": "code",
      "metadata": {
        "colab": {
          "base_uri": "https://localhost:8080/"
        },
        "id": "KVy03CVmGL7B",
        "outputId": "5b915dc7-e249-4484-9e2e-8f3ce34da361"
      },
      "source": [
        "dicionario = {} \n",
        "dicionario['maria'] = 10\n",
        "dicionario['ana'] = 9\n",
        "dicionario['linda'] = 8\n",
        "print(dicionario)"
      ],
      "execution_count": null,
      "outputs": [
        {
          "output_type": "stream",
          "name": "stdout",
          "text": [
            "{'maria': 10, 'ana': 9, 'linda': 8}\n"
          ]
        }
      ]
    },
    {
      "cell_type": "code",
      "metadata": {
        "colab": {
          "base_uri": "https://localhost:8080/"
        },
        "id": "Vc5nIdI3a-zF",
        "outputId": "623bc99a-8f46-417a-c6cc-102f9b2de6b2"
      },
      "source": [
        "dicionario['maria']"
      ],
      "execution_count": null,
      "outputs": [
        {
          "output_type": "execute_result",
          "data": {
            "text/plain": [
              "10"
            ]
          },
          "metadata": {},
          "execution_count": 44
        }
      ]
    },
    {
      "cell_type": "code",
      "metadata": {
        "colab": {
          "base_uri": "https://localhost:8080/"
        },
        "id": "2tgU8ty-bEc3",
        "outputId": "2f4eb84c-f81e-44b1-ce3b-96e42295d242"
      },
      "source": [
        "print(dicionario.keys())"
      ],
      "execution_count": null,
      "outputs": [
        {
          "output_type": "stream",
          "name": "stdout",
          "text": [
            "dict_keys(['maria', 'ana', 'linda'])\n"
          ]
        }
      ]
    },
    {
      "cell_type": "code",
      "metadata": {
        "colab": {
          "base_uri": "https://localhost:8080/"
        },
        "id": "GnKAva9DcF8r",
        "outputId": "63b6e97f-8771-4e34-865d-40ad49f35f66"
      },
      "source": [
        "print(dicionario.values())"
      ],
      "execution_count": null,
      "outputs": [
        {
          "output_type": "stream",
          "name": "stdout",
          "text": [
            "dict_values([10, 9, 8])\n"
          ]
        }
      ]
    },
    {
      "cell_type": "code",
      "metadata": {
        "colab": {
          "base_uri": "https://localhost:8080/"
        },
        "id": "PPNuYf7ecSF8",
        "outputId": "3423cfb9-9a33-4c86-f1d9-0ba14f6585c8"
      },
      "source": [
        "type(dicionario.keys())"
      ],
      "execution_count": null,
      "outputs": [
        {
          "output_type": "execute_result",
          "data": {
            "text/plain": [
              "dict_keys"
            ]
          },
          "metadata": {},
          "execution_count": 47
        }
      ]
    },
    {
      "cell_type": "code",
      "metadata": {
        "colab": {
          "base_uri": "https://localhost:8080/",
          "height": 166
        },
        "id": "2kmW0rMnclnQ",
        "outputId": "3fb5d1ee-d5e4-4ff3-9260-f70c0e148f41"
      },
      "source": [
        "dicionario.keys()[0] #nao consegue ver quem foi a primeira pessoa! como fazer isso?"
      ],
      "execution_count": null,
      "outputs": [
        {
          "output_type": "error",
          "ename": "TypeError",
          "evalue": "ignored",
          "traceback": [
            "\u001b[0;31m---------------------------------------------------------------------------\u001b[0m",
            "\u001b[0;31mTypeError\u001b[0m                                 Traceback (most recent call last)",
            "\u001b[0;32m<ipython-input-48-c9d1d12132fa>\u001b[0m in \u001b[0;36m<module>\u001b[0;34m()\u001b[0m\n\u001b[0;32m----> 1\u001b[0;31m \u001b[0mdicionario\u001b[0m\u001b[0;34m.\u001b[0m\u001b[0mkeys\u001b[0m\u001b[0;34m(\u001b[0m\u001b[0;34m)\u001b[0m\u001b[0;34m[\u001b[0m\u001b[0;36m0\u001b[0m\u001b[0;34m]\u001b[0m\u001b[0;34m\u001b[0m\u001b[0;34m\u001b[0m\u001b[0m\n\u001b[0m",
            "\u001b[0;31mTypeError\u001b[0m: 'dict_keys' object is not subscriptable"
          ]
        }
      ]
    },
    {
      "cell_type": "code",
      "metadata": {
        "colab": {
          "base_uri": "https://localhost:8080/",
          "height": 35
        },
        "id": "hPaCEpPcczfo",
        "outputId": "9265e8db-5f30-49a4-dfa2-d2a55df19b54"
      },
      "source": [
        "list(dicionario.keys())[0]  #assim que faz!!!!!!\n"
      ],
      "execution_count": null,
      "outputs": [
        {
          "output_type": "execute_result",
          "data": {
            "application/vnd.google.colaboratory.intrinsic+json": {
              "type": "string"
            },
            "text/plain": [
              "'maria'"
            ]
          },
          "metadata": {},
          "execution_count": 50
        }
      ]
    },
    {
      "cell_type": "code",
      "metadata": {
        "colab": {
          "base_uri": "https://localhost:8080/"
        },
        "id": "Px92u7_ldRy9",
        "outputId": "f7bc58ee-eef1-4bae-ab10-5d299a66bc21"
      },
      "source": [
        "list(dicionario.items())"
      ],
      "execution_count": null,
      "outputs": [
        {
          "output_type": "execute_result",
          "data": {
            "text/plain": [
              "[('maria', 10), ('ana', 9), ('linda', 8)]"
            ]
          },
          "metadata": {},
          "execution_count": 51
        }
      ]
    },
    {
      "cell_type": "code",
      "metadata": {
        "colab": {
          "base_uri": "https://localhost:8080/"
        },
        "id": "srk-_771hba9",
        "outputId": "0507691f-7174-4657-948f-18f767bcc139"
      },
      "source": [
        "for chave,valor in dicionario.items(): #repete tudo de acordo com a estrutura\n",
        "  print(chave, \"teve nota\", valor)"
      ],
      "execution_count": null,
      "outputs": [
        {
          "output_type": "stream",
          "name": "stdout",
          "text": [
            "maria teve nota 10\n",
            "ana teve nota 9\n",
            "linda teve nota 8\n"
          ]
        }
      ]
    },
    {
      "cell_type": "code",
      "metadata": {
        "id": "enEhfMgViqEP"
      },
      "source": [
        ""
      ],
      "execution_count": null,
      "outputs": []
    },
    {
      "cell_type": "code",
      "metadata": {
        "id": "cLI2Xqgv_O85"
      },
      "source": [
        "from google.colab import drive\n",
        "drive.mount('/content/drive')"
      ],
      "execution_count": null,
      "outputs": []
    }
  ]
}