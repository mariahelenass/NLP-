{
  "nbformat": 4,
  "nbformat_minor": 0,
  "metadata": {
    "colab": {
      "name": "ARQUIVO",
      "provenance": [],
      "collapsed_sections": [],
      "authorship_tag": "ABX9TyNOl9hc3lCX42Uuhz7xUFSX",
      "include_colab_link": true
    },
    "kernelspec": {
      "name": "python3",
      "display_name": "Python 3"
    },
    "language_info": {
      "name": "python"
    }
  },
  "cells": [
    {
      "cell_type": "markdown",
      "metadata": {
        "id": "view-in-github",
        "colab_type": "text"
      },
      "source": [
        "<a href=\"https://colab.research.google.com/github/mariahelenass/NLP-/blob/main/ARQUIVO.ipynb\" target=\"_parent\"><img src=\"https://colab.research.google.com/assets/colab-badge.svg\" alt=\"Open In Colab\"/></a>"
      ]
    },
    {
      "cell_type": "code",
      "metadata": {
        "id": "NivGdr1Hkbz5"
      },
      "source": [
        "#as \"/\" siginificam a exploração até onde quero chegar - caminho do arquivo\n",
        "#como abrir um arquivo:\n",
        "\n",
        "arquivo_entrada = open(\"/content/drive/Mydrive/arquivos/#nomedoarquivo\", 'r')\n",
        "\n",
        "#para ler o arquivo\n",
        "\n",
        "print(arquivo_entrada.read())\n",
        "\n",
        "#ou\n",
        "\n",
        "arquivo_lido = arquivo_entrada.read()\n",
        "print(arquivo_lido)\n",
        "\n",
        "arquivo_entrada.close()\n"
      ],
      "execution_count": null,
      "outputs": []
    },
    {
      "cell_type": "code",
      "metadata": {
        "id": "SS-T5KpU767T"
      },
      "source": [
        ""
      ],
      "execution_count": null,
      "outputs": []
    }
  ]
}