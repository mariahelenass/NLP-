{
  "nbformat": 4,
  "nbformat_minor": 0,
  "metadata": {
    "colab": {
      "name": "spaCY - AULA 5",
      "provenance": [],
      "collapsed_sections": [],
      "mount_file_id": "1nmkBd1DUkBvx5oEThRFZLlL4Jk5OB2Bc",
      "authorship_tag": "ABX9TyOFmSt+k389Nn6ceuvP0lYw",
      "include_colab_link": true
    },
    "kernelspec": {
      "name": "python3",
      "display_name": "Python 3"
    },
    "language_info": {
      "name": "python"
    }
  },
  "cells": [
    {
      "cell_type": "markdown",
      "metadata": {
        "id": "view-in-github",
        "colab_type": "text"
      },
      "source": [
        "<a href=\"https://colab.research.google.com/github/mariahelenass/NLP-/blob/main/spaCY_AULA_5.ipynb\" target=\"_parent\"><img src=\"https://colab.research.google.com/assets/colab-badge.svg\" alt=\"Open In Colab\"/></a>"
      ]
    },
    {
      "cell_type": "code",
      "metadata": {
        "id": "WO3xyolRk5Qe",
        "colab": {
          "base_uri": "https://localhost:8080/"
        },
        "outputId": "c55bee47-527b-464c-b5c4-7c93be338937"
      },
      "source": [
        "pip install -U spacy"
      ],
      "execution_count": 1,
      "outputs": [
        {
          "output_type": "stream",
          "name": "stdout",
          "text": [
            "Requirement already satisfied: spacy in /usr/local/lib/python3.7/dist-packages (2.2.4)\n",
            "Collecting spacy\n",
            "  Downloading spacy-3.2.4-cp37-cp37m-manylinux_2_17_x86_64.manylinux2014_x86_64.whl (6.0 MB)\n",
            "\u001b[K     |████████████████████████████████| 6.0 MB 8.4 MB/s \n",
            "\u001b[?25hCollecting thinc<8.1.0,>=8.0.12\n",
            "  Downloading thinc-8.0.15-cp37-cp37m-manylinux_2_17_x86_64.manylinux2014_x86_64.whl (653 kB)\n",
            "\u001b[K     |████████████████████████████████| 653 kB 33.6 MB/s \n",
            "\u001b[?25hRequirement already satisfied: packaging>=20.0 in /usr/local/lib/python3.7/dist-packages (from spacy) (21.3)\n",
            "Requirement already satisfied: murmurhash<1.1.0,>=0.28.0 in /usr/local/lib/python3.7/dist-packages (from spacy) (1.0.6)\n",
            "Requirement already satisfied: cymem<2.1.0,>=2.0.2 in /usr/local/lib/python3.7/dist-packages (from spacy) (2.0.6)\n",
            "Requirement already satisfied: wasabi<1.1.0,>=0.8.1 in /usr/local/lib/python3.7/dist-packages (from spacy) (0.9.1)\n",
            "Collecting catalogue<2.1.0,>=2.0.6\n",
            "  Downloading catalogue-2.0.7-py3-none-any.whl (17 kB)\n",
            "Collecting langcodes<4.0.0,>=3.2.0\n",
            "  Downloading langcodes-3.3.0-py3-none-any.whl (181 kB)\n",
            "\u001b[K     |████████████████████████████████| 181 kB 47.3 MB/s \n",
            "\u001b[?25hRequirement already satisfied: tqdm<5.0.0,>=4.38.0 in /usr/local/lib/python3.7/dist-packages (from spacy) (4.64.0)\n",
            "Collecting typer<0.5.0,>=0.3.0\n",
            "  Downloading typer-0.4.1-py3-none-any.whl (27 kB)\n",
            "Collecting typing-extensions<4.0.0.0,>=3.7.4\n",
            "  Downloading typing_extensions-3.10.0.2-py3-none-any.whl (26 kB)\n",
            "Requirement already satisfied: blis<0.8.0,>=0.4.0 in /usr/local/lib/python3.7/dist-packages (from spacy) (0.4.1)\n",
            "Requirement already satisfied: setuptools in /usr/local/lib/python3.7/dist-packages (from spacy) (57.4.0)\n",
            "Collecting pathy>=0.3.5\n",
            "  Downloading pathy-0.6.1-py3-none-any.whl (42 kB)\n",
            "\u001b[K     |████████████████████████████████| 42 kB 1.3 MB/s \n",
            "\u001b[?25hRequirement already satisfied: preshed<3.1.0,>=3.0.2 in /usr/local/lib/python3.7/dist-packages (from spacy) (3.0.6)\n",
            "Collecting srsly<3.0.0,>=2.4.1\n",
            "  Downloading srsly-2.4.3-cp37-cp37m-manylinux_2_17_x86_64.manylinux2014_x86_64.whl (457 kB)\n",
            "\u001b[K     |████████████████████████████████| 457 kB 45.9 MB/s \n",
            "\u001b[?25hRequirement already satisfied: jinja2 in /usr/local/lib/python3.7/dist-packages (from spacy) (2.11.3)\n",
            "Requirement already satisfied: numpy>=1.15.0 in /usr/local/lib/python3.7/dist-packages (from spacy) (1.21.5)\n",
            "Collecting spacy-loggers<2.0.0,>=1.0.0\n",
            "  Downloading spacy_loggers-1.0.2-py3-none-any.whl (7.2 kB)\n",
            "Collecting spacy-legacy<3.1.0,>=3.0.8\n",
            "  Downloading spacy_legacy-3.0.9-py2.py3-none-any.whl (20 kB)\n",
            "Collecting pydantic!=1.8,!=1.8.1,<1.9.0,>=1.7.4\n",
            "  Downloading pydantic-1.8.2-cp37-cp37m-manylinux2014_x86_64.whl (10.1 MB)\n",
            "\u001b[K     |████████████████████████████████| 10.1 MB 33.8 MB/s \n",
            "\u001b[?25hRequirement already satisfied: click<8.1.0 in /usr/local/lib/python3.7/dist-packages (from spacy) (7.1.2)\n",
            "Requirement already satisfied: requests<3.0.0,>=2.13.0 in /usr/local/lib/python3.7/dist-packages (from spacy) (2.23.0)\n",
            "Requirement already satisfied: zipp>=0.5 in /usr/local/lib/python3.7/dist-packages (from catalogue<2.1.0,>=2.0.6->spacy) (3.8.0)\n",
            "Requirement already satisfied: pyparsing!=3.0.5,>=2.0.2 in /usr/local/lib/python3.7/dist-packages (from packaging>=20.0->spacy) (3.0.8)\n",
            "Requirement already satisfied: smart-open<6.0.0,>=5.0.0 in /usr/local/lib/python3.7/dist-packages (from pathy>=0.3.5->spacy) (5.2.1)\n",
            "Requirement already satisfied: chardet<4,>=3.0.2 in /usr/local/lib/python3.7/dist-packages (from requests<3.0.0,>=2.13.0->spacy) (3.0.4)\n",
            "Requirement already satisfied: idna<3,>=2.5 in /usr/local/lib/python3.7/dist-packages (from requests<3.0.0,>=2.13.0->spacy) (2.10)\n",
            "Requirement already satisfied: urllib3!=1.25.0,!=1.25.1,<1.26,>=1.21.1 in /usr/local/lib/python3.7/dist-packages (from requests<3.0.0,>=2.13.0->spacy) (1.24.3)\n",
            "Requirement already satisfied: certifi>=2017.4.17 in /usr/local/lib/python3.7/dist-packages (from requests<3.0.0,>=2.13.0->spacy) (2021.10.8)\n",
            "Requirement already satisfied: MarkupSafe>=0.23 in /usr/local/lib/python3.7/dist-packages (from jinja2->spacy) (2.0.1)\n",
            "Installing collected packages: typing-extensions, catalogue, typer, srsly, pydantic, thinc, spacy-loggers, spacy-legacy, pathy, langcodes, spacy\n",
            "  Attempting uninstall: typing-extensions\n",
            "    Found existing installation: typing-extensions 4.1.1\n",
            "    Uninstalling typing-extensions-4.1.1:\n",
            "      Successfully uninstalled typing-extensions-4.1.1\n",
            "  Attempting uninstall: catalogue\n",
            "    Found existing installation: catalogue 1.0.0\n",
            "    Uninstalling catalogue-1.0.0:\n",
            "      Successfully uninstalled catalogue-1.0.0\n",
            "  Attempting uninstall: srsly\n",
            "    Found existing installation: srsly 1.0.5\n",
            "    Uninstalling srsly-1.0.5:\n",
            "      Successfully uninstalled srsly-1.0.5\n",
            "  Attempting uninstall: thinc\n",
            "    Found existing installation: thinc 7.4.0\n",
            "    Uninstalling thinc-7.4.0:\n",
            "      Successfully uninstalled thinc-7.4.0\n",
            "  Attempting uninstall: spacy\n",
            "    Found existing installation: spacy 2.2.4\n",
            "    Uninstalling spacy-2.2.4:\n",
            "      Successfully uninstalled spacy-2.2.4\n",
            "\u001b[31mERROR: pip's dependency resolver does not currently take into account all the packages that are installed. This behaviour is the source of the following dependency conflicts.\n",
            "tensorflow 2.8.0 requires tf-estimator-nightly==2.8.0.dev2021122109, which is not installed.\u001b[0m\n",
            "Successfully installed catalogue-2.0.7 langcodes-3.3.0 pathy-0.6.1 pydantic-1.8.2 spacy-3.2.4 spacy-legacy-3.0.9 spacy-loggers-1.0.2 srsly-2.4.3 thinc-8.0.15 typer-0.4.1 typing-extensions-3.10.0.2\n"
          ]
        }
      ]
    },
    {
      "cell_type": "code",
      "metadata": {
        "id": "rTt_rYqIGHuN",
        "colab": {
          "base_uri": "https://localhost:8080/"
        },
        "outputId": "e3f8673b-acb0-4e52-f3e5-8ff27ae406b9"
      },
      "source": [
        "pip install -U spacy-lookups-data"
      ],
      "execution_count": 5,
      "outputs": [
        {
          "output_type": "stream",
          "name": "stdout",
          "text": [
            "Collecting spacy-lookups-data\n",
            "  Downloading spacy_lookups_data-1.0.3-py2.py3-none-any.whl (98.5 MB)\n",
            "\u001b[K     |████████████████████████████████| 98.5 MB 106 kB/s \n",
            "\u001b[?25hRequirement already satisfied: setuptools in /usr/local/lib/python3.7/dist-packages (from spacy-lookups-data) (57.4.0)\n",
            "Installing collected packages: spacy-lookups-data\n",
            "Successfully installed spacy-lookups-data-1.0.3\n"
          ]
        }
      ]
    },
    {
      "cell_type": "code",
      "metadata": {
        "id": "bDUky372GYK7",
        "colab": {
          "base_uri": "https://localhost:8080/"
        },
        "outputId": "e69a6e98-58b9-4d5a-9f47-c5d23ae5db0b"
      },
      "source": [
        "!python -m spacy download pt_core_news_lg"
      ],
      "execution_count": 6,
      "outputs": [
        {
          "output_type": "stream",
          "name": "stdout",
          "text": [
            "Collecting pt-core-news-lg==3.2.0\n",
            "  Downloading https://github.com/explosion/spacy-models/releases/download/pt_core_news_lg-3.2.0/pt_core_news_lg-3.2.0-py3-none-any.whl (577.4 MB)\n",
            "\u001b[K     |████████████████████████████████| 577.4 MB 5.3 kB/s \n",
            "\u001b[?25hRequirement already satisfied: spacy<3.3.0,>=3.2.0 in /usr/local/lib/python3.7/dist-packages (from pt-core-news-lg==3.2.0) (3.2.4)\n",
            "Requirement already satisfied: wasabi<1.1.0,>=0.8.1 in /usr/local/lib/python3.7/dist-packages (from spacy<3.3.0,>=3.2.0->pt-core-news-lg==3.2.0) (0.9.1)\n",
            "Requirement already satisfied: srsly<3.0.0,>=2.4.1 in /usr/local/lib/python3.7/dist-packages (from spacy<3.3.0,>=3.2.0->pt-core-news-lg==3.2.0) (2.4.3)\n",
            "Requirement already satisfied: typing-extensions<4.0.0.0,>=3.7.4 in /usr/local/lib/python3.7/dist-packages (from spacy<3.3.0,>=3.2.0->pt-core-news-lg==3.2.0) (3.10.0.2)\n",
            "Requirement already satisfied: click<8.1.0 in /usr/local/lib/python3.7/dist-packages (from spacy<3.3.0,>=3.2.0->pt-core-news-lg==3.2.0) (7.1.2)\n",
            "Requirement already satisfied: catalogue<2.1.0,>=2.0.6 in /usr/local/lib/python3.7/dist-packages (from spacy<3.3.0,>=3.2.0->pt-core-news-lg==3.2.0) (2.0.7)\n",
            "Requirement already satisfied: numpy>=1.15.0 in /usr/local/lib/python3.7/dist-packages (from spacy<3.3.0,>=3.2.0->pt-core-news-lg==3.2.0) (1.21.5)\n",
            "Requirement already satisfied: preshed<3.1.0,>=3.0.2 in /usr/local/lib/python3.7/dist-packages (from spacy<3.3.0,>=3.2.0->pt-core-news-lg==3.2.0) (3.0.6)\n",
            "Requirement already satisfied: jinja2 in /usr/local/lib/python3.7/dist-packages (from spacy<3.3.0,>=3.2.0->pt-core-news-lg==3.2.0) (2.11.3)\n",
            "Requirement already satisfied: requests<3.0.0,>=2.13.0 in /usr/local/lib/python3.7/dist-packages (from spacy<3.3.0,>=3.2.0->pt-core-news-lg==3.2.0) (2.23.0)\n",
            "Requirement already satisfied: spacy-legacy<3.1.0,>=3.0.8 in /usr/local/lib/python3.7/dist-packages (from spacy<3.3.0,>=3.2.0->pt-core-news-lg==3.2.0) (3.0.9)\n",
            "Requirement already satisfied: murmurhash<1.1.0,>=0.28.0 in /usr/local/lib/python3.7/dist-packages (from spacy<3.3.0,>=3.2.0->pt-core-news-lg==3.2.0) (1.0.6)\n",
            "Requirement already satisfied: typer<0.5.0,>=0.3.0 in /usr/local/lib/python3.7/dist-packages (from spacy<3.3.0,>=3.2.0->pt-core-news-lg==3.2.0) (0.4.1)\n",
            "Requirement already satisfied: packaging>=20.0 in /usr/local/lib/python3.7/dist-packages (from spacy<3.3.0,>=3.2.0->pt-core-news-lg==3.2.0) (21.3)\n",
            "Requirement already satisfied: thinc<8.1.0,>=8.0.12 in /usr/local/lib/python3.7/dist-packages (from spacy<3.3.0,>=3.2.0->pt-core-news-lg==3.2.0) (8.0.15)\n",
            "Requirement already satisfied: pathy>=0.3.5 in /usr/local/lib/python3.7/dist-packages (from spacy<3.3.0,>=3.2.0->pt-core-news-lg==3.2.0) (0.6.1)\n",
            "Requirement already satisfied: blis<0.8.0,>=0.4.0 in /usr/local/lib/python3.7/dist-packages (from spacy<3.3.0,>=3.2.0->pt-core-news-lg==3.2.0) (0.4.1)\n",
            "Requirement already satisfied: spacy-loggers<2.0.0,>=1.0.0 in /usr/local/lib/python3.7/dist-packages (from spacy<3.3.0,>=3.2.0->pt-core-news-lg==3.2.0) (1.0.2)\n",
            "Requirement already satisfied: langcodes<4.0.0,>=3.2.0 in /usr/local/lib/python3.7/dist-packages (from spacy<3.3.0,>=3.2.0->pt-core-news-lg==3.2.0) (3.3.0)\n",
            "Requirement already satisfied: cymem<2.1.0,>=2.0.2 in /usr/local/lib/python3.7/dist-packages (from spacy<3.3.0,>=3.2.0->pt-core-news-lg==3.2.0) (2.0.6)\n",
            "Requirement already satisfied: pydantic!=1.8,!=1.8.1,<1.9.0,>=1.7.4 in /usr/local/lib/python3.7/dist-packages (from spacy<3.3.0,>=3.2.0->pt-core-news-lg==3.2.0) (1.8.2)\n",
            "Requirement already satisfied: tqdm<5.0.0,>=4.38.0 in /usr/local/lib/python3.7/dist-packages (from spacy<3.3.0,>=3.2.0->pt-core-news-lg==3.2.0) (4.64.0)\n",
            "Requirement already satisfied: setuptools in /usr/local/lib/python3.7/dist-packages (from spacy<3.3.0,>=3.2.0->pt-core-news-lg==3.2.0) (57.4.0)\n",
            "Requirement already satisfied: zipp>=0.5 in /usr/local/lib/python3.7/dist-packages (from catalogue<2.1.0,>=2.0.6->spacy<3.3.0,>=3.2.0->pt-core-news-lg==3.2.0) (3.8.0)\n",
            "Requirement already satisfied: pyparsing!=3.0.5,>=2.0.2 in /usr/local/lib/python3.7/dist-packages (from packaging>=20.0->spacy<3.3.0,>=3.2.0->pt-core-news-lg==3.2.0) (3.0.8)\n",
            "Requirement already satisfied: smart-open<6.0.0,>=5.0.0 in /usr/local/lib/python3.7/dist-packages (from pathy>=0.3.5->spacy<3.3.0,>=3.2.0->pt-core-news-lg==3.2.0) (5.2.1)\n",
            "Requirement already satisfied: urllib3!=1.25.0,!=1.25.1,<1.26,>=1.21.1 in /usr/local/lib/python3.7/dist-packages (from requests<3.0.0,>=2.13.0->spacy<3.3.0,>=3.2.0->pt-core-news-lg==3.2.0) (1.24.3)\n",
            "Requirement already satisfied: certifi>=2017.4.17 in /usr/local/lib/python3.7/dist-packages (from requests<3.0.0,>=2.13.0->spacy<3.3.0,>=3.2.0->pt-core-news-lg==3.2.0) (2021.10.8)\n",
            "Requirement already satisfied: idna<3,>=2.5 in /usr/local/lib/python3.7/dist-packages (from requests<3.0.0,>=2.13.0->spacy<3.3.0,>=3.2.0->pt-core-news-lg==3.2.0) (2.10)\n",
            "Requirement already satisfied: chardet<4,>=3.0.2 in /usr/local/lib/python3.7/dist-packages (from requests<3.0.0,>=2.13.0->spacy<3.3.0,>=3.2.0->pt-core-news-lg==3.2.0) (3.0.4)\n",
            "Requirement already satisfied: MarkupSafe>=0.23 in /usr/local/lib/python3.7/dist-packages (from jinja2->spacy<3.3.0,>=3.2.0->pt-core-news-lg==3.2.0) (2.0.1)\n",
            "Installing collected packages: pt-core-news-lg\n",
            "Successfully installed pt-core-news-lg-3.2.0\n",
            "\u001b[38;5;2m✔ Download and installation successful\u001b[0m\n",
            "You can now load the package via spacy.load('pt_core_news_lg')\n"
          ]
        }
      ]
    },
    {
      "cell_type": "code",
      "metadata": {
        "id": "ou5HvsELH4RA"
      },
      "source": [
        "import spacy\n",
        "\n",
        "texto = \"Para que o enorme potencial da IA seja libertado, temos de poder confiar nela. A comissária europeia está nos Estados Unidos para as primeiras conversações bilaterais entre a União Europeia e os EUA no Conselho de Comércio e Tecnologia, que vão acontecer na quarta-feira, 29 de setembro, em Pittsburgh.\"\n",
        "nlp = spacy.load(\"pt_core_news_lg\")\n",
        "doc = nlp(texto)\n",
        "\n"
      ],
      "execution_count": 7,
      "outputs": []
    },
    {
      "cell_type": "code",
      "metadata": {
        "id": "4FysJV_CJ98U",
        "colab": {
          "base_uri": "https://localhost:8080/"
        },
        "outputId": "70369093-32c0-4c5f-f026-785cf15659ec"
      },
      "source": [
        "tokens = [token.orth_ for token in doc] #texto em si dos tokens\n",
        "tokens"
      ],
      "execution_count": 8,
      "outputs": [
        {
          "output_type": "execute_result",
          "data": {
            "text/plain": [
              "['Para',\n",
              " 'que',\n",
              " 'o',\n",
              " 'enorme',\n",
              " 'potencial',\n",
              " 'da',\n",
              " 'IA',\n",
              " 'seja',\n",
              " 'libertado',\n",
              " ',',\n",
              " 'temos',\n",
              " 'de',\n",
              " 'poder',\n",
              " 'confiar',\n",
              " 'nela',\n",
              " '.',\n",
              " 'A',\n",
              " 'comissária',\n",
              " 'europeia',\n",
              " 'está',\n",
              " 'nos',\n",
              " 'Estados',\n",
              " 'Unidos',\n",
              " 'para',\n",
              " 'as',\n",
              " 'primeiras',\n",
              " 'conversações',\n",
              " 'bilaterais',\n",
              " 'entre',\n",
              " 'a',\n",
              " 'União',\n",
              " 'Europeia',\n",
              " 'e',\n",
              " 'os',\n",
              " 'EUA',\n",
              " 'no',\n",
              " 'Conselho',\n",
              " 'de',\n",
              " 'Comércio',\n",
              " 'e',\n",
              " 'Tecnologia',\n",
              " ',',\n",
              " 'que',\n",
              " 'vão',\n",
              " 'acontecer',\n",
              " 'na',\n",
              " 'quarta-feira',\n",
              " ',',\n",
              " '29',\n",
              " 'de',\n",
              " 'setembro',\n",
              " ',',\n",
              " 'em',\n",
              " 'Pittsburgh',\n",
              " '.']"
            ]
          },
          "metadata": {},
          "execution_count": 8
        }
      ]
    },
    {
      "cell_type": "code",
      "metadata": {
        "colab": {
          "base_uri": "https://localhost:8080/"
        },
        "id": "FN4_YPC7LlWv",
        "outputId": "bbfc51a1-cd02-496e-dbed-3d193bfcc6f7"
      },
      "source": [
        "alpha_tokens = [token.orth_ for token in doc if token.is_alpha]  #se é palavra\n",
        "print(\"ALPHA TOKENS: %s \" %(alpha_tokens))\n",
        "\n",
        "digit_tokens = [token.orth_ for token in doc if token.is_digit] #se é digito\n",
        "print(\"DIGIT TOKENS: %s \" %(digit_tokens))\n",
        "\n",
        "punct_tokens = [token.orth_ for token in doc if token.is_punct] #se é pontuação\n",
        "print(\"PUNCT TOKENS: %s \" %(punct_tokens))"
      ],
      "execution_count": 9,
      "outputs": [
        {
          "output_type": "stream",
          "name": "stdout",
          "text": [
            "ALPHA TOKENS: ['Para', 'que', 'o', 'enorme', 'potencial', 'da', 'IA', 'seja', 'libertado', 'temos', 'de', 'poder', 'confiar', 'nela', 'A', 'comissária', 'europeia', 'está', 'nos', 'Estados', 'Unidos', 'para', 'as', 'primeiras', 'conversações', 'bilaterais', 'entre', 'a', 'União', 'Europeia', 'e', 'os', 'EUA', 'no', 'Conselho', 'de', 'Comércio', 'e', 'Tecnologia', 'que', 'vão', 'acontecer', 'na', 'de', 'setembro', 'em', 'Pittsburgh'] \n",
            "DIGIT TOKENS: ['29'] \n",
            "PUNCT TOKENS: [',', '.', ',', ',', ',', '.'] \n"
          ]
        }
      ]
    },
    {
      "cell_type": "code",
      "metadata": {
        "id": "X89qgRE_PJzC",
        "colab": {
          "base_uri": "https://localhost:8080/"
        },
        "outputId": "94b5274d-6d2a-47f9-a64a-13ca57a2c424"
      },
      "source": [
        "lemma = [token.lemma_ for token in doc if token.pos_ == 'VERB' ] #lematização so para verbos no spacy\n",
        "lemma"
      ],
      "execution_count": 10,
      "outputs": [
        {
          "output_type": "execute_result",
          "data": {
            "text/plain": [
              "['libertar', 'ter', 'poder', 'confiar', 'acontecer']"
            ]
          },
          "metadata": {},
          "execution_count": 10
        }
      ]
    },
    {
      "cell_type": "code",
      "metadata": {
        "id": "MzebsfdUPKGl",
        "colab": {
          "base_uri": "https://localhost:8080/"
        },
        "outputId": "1c98249f-bba4-410f-d43d-ec4700f842fb"
      },
      "source": [
        "pos = [(token.orth_, token.pos_) for token in doc] #classes gramaticais - etiquetadores\n",
        "pos"
      ],
      "execution_count": 11,
      "outputs": [
        {
          "output_type": "execute_result",
          "data": {
            "text/plain": [
              "[('Para', 'SCONJ'),\n",
              " ('que', 'SCONJ'),\n",
              " ('o', 'DET'),\n",
              " ('enorme', 'ADJ'),\n",
              " ('potencial', 'NOUN'),\n",
              " ('da', 'ADP'),\n",
              " ('IA', 'NOUN'),\n",
              " ('seja', 'AUX'),\n",
              " ('libertado', 'VERB'),\n",
              " (',', 'PUNCT'),\n",
              " ('temos', 'VERB'),\n",
              " ('de', 'SCONJ'),\n",
              " ('poder', 'VERB'),\n",
              " ('confiar', 'VERB'),\n",
              " ('nela', 'PRON'),\n",
              " ('.', 'PUNCT'),\n",
              " ('A', 'DET'),\n",
              " ('comissária', 'NOUN'),\n",
              " ('europeia', 'ADJ'),\n",
              " ('está', 'AUX'),\n",
              " ('nos', 'ADP'),\n",
              " ('Estados', 'PROPN'),\n",
              " ('Unidos', 'PROPN'),\n",
              " ('para', 'ADP'),\n",
              " ('as', 'DET'),\n",
              " ('primeiras', 'ADJ'),\n",
              " ('conversações', 'NOUN'),\n",
              " ('bilaterais', 'ADJ'),\n",
              " ('entre', 'ADP'),\n",
              " ('a', 'DET'),\n",
              " ('União', 'PROPN'),\n",
              " ('Europeia', 'PROPN'),\n",
              " ('e', 'CCONJ'),\n",
              " ('os', 'DET'),\n",
              " ('EUA', 'PROPN'),\n",
              " ('no', 'ADP'),\n",
              " ('Conselho', 'PROPN'),\n",
              " ('de', 'ADP'),\n",
              " ('Comércio', 'PROPN'),\n",
              " ('e', 'CCONJ'),\n",
              " ('Tecnologia', 'NOUN'),\n",
              " (',', 'PUNCT'),\n",
              " ('que', 'PRON'),\n",
              " ('vão', 'AUX'),\n",
              " ('acontecer', 'VERB'),\n",
              " ('na', 'ADP'),\n",
              " ('quarta-feira', 'NOUN'),\n",
              " (',', 'PUNCT'),\n",
              " ('29', 'NUM'),\n",
              " ('de', 'ADP'),\n",
              " ('setembro', 'NOUN'),\n",
              " (',', 'PUNCT'),\n",
              " ('em', 'ADP'),\n",
              " ('Pittsburgh', 'PROPN'),\n",
              " ('.', 'PUNCT')]"
            ]
          },
          "metadata": {},
          "execution_count": 11
        }
      ]
    },
    {
      "cell_type": "code",
      "metadata": {
        "id": "ygfM-hl8RLvb",
        "colab": {
          "base_uri": "https://localhost:8080/"
        },
        "outputId": "36c9380f-ef9e-4554-c12b-81eef97a2d38"
      },
      "source": [
        "morfologicas = [(token.orth_, token.morph) for token in doc] #Analise Morfologica\n",
        "morfologicas"
      ],
      "execution_count": 12,
      "outputs": [
        {
          "output_type": "execute_result",
          "data": {
            "text/plain": [
              "[('Para', ),\n",
              " ('que', ),\n",
              " ('o', Definite=Def|Gender=Masc|Number=Sing|PronType=Art),\n",
              " ('enorme', Gender=Masc|Number=Sing),\n",
              " ('potencial', Gender=Masc|Number=Sing),\n",
              " ('da', Definite=Def|Gender=Fem|Number=Sing|PronType=Art),\n",
              " ('IA', Gender=Fem|Number=Sing),\n",
              " ('seja', Mood=Sub|Number=Sing|Person=3|Tense=Pres|VerbForm=Fin),\n",
              " ('libertado', Gender=Masc|Number=Sing|VerbForm=Part|Voice=Pass),\n",
              " (',', ),\n",
              " ('temos', Mood=Ind|Number=Plur|Person=1|Tense=Pres|VerbForm=Fin),\n",
              " ('de', ),\n",
              " ('poder', VerbForm=Inf),\n",
              " ('confiar', VerbForm=Inf),\n",
              " ('nela', Gender=Fem|Number=Sing|Person=3|PronType=Prs),\n",
              " ('.', ),\n",
              " ('A', Definite=Def|Gender=Fem|Number=Sing|PronType=Art),\n",
              " ('comissária', Gender=Fem|Number=Sing),\n",
              " ('europeia', Gender=Fem|Number=Sing),\n",
              " ('está', Mood=Ind|Number=Sing|Person=3|Tense=Pres|VerbForm=Fin),\n",
              " ('nos', Definite=Def|Gender=Masc|Number=Plur|PronType=Art),\n",
              " ('Estados', Gender=Masc|Number=Plur),\n",
              " ('Unidos', Number=Sing),\n",
              " ('para', ),\n",
              " ('as', Definite=Def|Gender=Fem|Number=Plur|PronType=Art),\n",
              " ('primeiras', Gender=Fem|NumType=Ord|Number=Plur),\n",
              " ('conversações', Gender=Fem|Number=Plur),\n",
              " ('bilaterais', Gender=Fem|Number=Plur),\n",
              " ('entre', ),\n",
              " ('a', Definite=Def|Gender=Fem|Number=Sing|PronType=Art),\n",
              " ('União', Gender=Fem|Number=Sing),\n",
              " ('Europeia', Number=Sing),\n",
              " ('e', ),\n",
              " ('os', Definite=Def|Gender=Masc|Number=Plur|PronType=Art),\n",
              " ('EUA', Gender=Masc|Number=Plur),\n",
              " ('no', Definite=Def|Gender=Masc|Number=Sing|PronType=Art),\n",
              " ('Conselho', Gender=Masc|Number=Sing),\n",
              " ('de', ),\n",
              " ('Comércio', Number=Sing),\n",
              " ('e', ),\n",
              " ('Tecnologia', Gender=Fem|Number=Sing),\n",
              " (',', ),\n",
              " ('que', Gender=Masc|Number=Plur|PronType=Rel),\n",
              " ('vão', Mood=Ind|Number=Plur|Person=3|Tense=Pres|VerbForm=Fin),\n",
              " ('acontecer', VerbForm=Inf),\n",
              " ('na', Definite=Def|Gender=Fem|Number=Sing|PronType=Art),\n",
              " ('quarta-feira', Gender=Fem|Number=Sing),\n",
              " (',', ),\n",
              " ('29', NumType=Card),\n",
              " ('de', ),\n",
              " ('setembro', Gender=Masc|Number=Sing),\n",
              " (',', ),\n",
              " ('em', ),\n",
              " ('Pittsburgh', Gender=Masc|Number=Sing),\n",
              " ('.', )]"
            ]
          },
          "metadata": {},
          "execution_count": 12
        }
      ]
    },
    {
      "cell_type": "code",
      "metadata": {
        "id": "zy_fgMjDRN3v",
        "colab": {
          "base_uri": "https://localhost:8080/"
        },
        "outputId": "53df5299-50ab-4c99-cdd0-9345815f7a69"
      },
      "source": [
        "entidades_nomeadas = list(doc.ents) #Entidades Nomeadas\n",
        "print(entidades_nomeadas)\n",
        "\n",
        "detalhes_entidades = [(entidade, entidade.label_) for entidade in doc.ents]\n",
        "detalhes_entidades"
      ],
      "execution_count": 13,
      "outputs": [
        {
          "output_type": "stream",
          "name": "stdout",
          "text": [
            "[Estados Unidos, União Europeia, EUA, Conselho de Comércio, Pittsburgh]\n"
          ]
        },
        {
          "output_type": "execute_result",
          "data": {
            "text/plain": [
              "[(Estados Unidos, 'LOC'),\n",
              " (União Europeia, 'ORG'),\n",
              " (EUA, 'LOC'),\n",
              " (Conselho de Comércio, 'ORG'),\n",
              " (Pittsburgh, 'LOC')]"
            ]
          },
          "metadata": {},
          "execution_count": 13
        }
      ]
    },
    {
      "cell_type": "code",
      "metadata": {
        "id": "5TL6IZHcTWnG"
      },
      "source": [
        "html = spacy.displacy.render(doc, style='ent')\n",
        "output_path = open('entidades_nomeadas.html', 'w', encoding = 'utf-8')\n",
        "output_path.write(html)\n",
        "output_path.close()"
      ],
      "execution_count": 14,
      "outputs": []
    },
    {
      "cell_type": "code",
      "metadata": {
        "id": "f1JbYXWdVsO1",
        "colab": {
          "base_uri": "https://localhost:8080/"
        },
        "outputId": "6e7399cc-a9e7-4fca-d47d-3457ea53462d"
      },
      "source": [
        "sintaxe = [(token.orth_, token.dep_) for token in doc] #sintaxe\n",
        "sintaxe"
      ],
      "execution_count": 15,
      "outputs": [
        {
          "output_type": "execute_result",
          "data": {
            "text/plain": [
              "[('Para', 'mark'),\n",
              " ('que', 'mark'),\n",
              " ('o', 'det'),\n",
              " ('enorme', 'amod'),\n",
              " ('potencial', 'nsubj:pass'),\n",
              " ('da', 'case'),\n",
              " ('IA', 'nmod'),\n",
              " ('seja', 'aux:pass'),\n",
              " ('libertado', 'advcl'),\n",
              " (',', 'punct'),\n",
              " ('temos', 'ROOT'),\n",
              " ('de', 'mark'),\n",
              " ('poder', 'xcomp'),\n",
              " ('confiar', 'xcomp'),\n",
              " ('nela', 'obj'),\n",
              " ('.', 'punct'),\n",
              " ('A', 'det'),\n",
              " ('comissária', 'nsubj'),\n",
              " ('europeia', 'amod'),\n",
              " ('está', 'cop'),\n",
              " ('nos', 'case'),\n",
              " ('Estados', 'ROOT'),\n",
              " ('Unidos', 'flat:name'),\n",
              " ('para', 'case'),\n",
              " ('as', 'det'),\n",
              " ('primeiras', 'amod'),\n",
              " ('conversações', 'nmod'),\n",
              " ('bilaterais', 'amod'),\n",
              " ('entre', 'case'),\n",
              " ('a', 'det'),\n",
              " ('União', 'nmod'),\n",
              " ('Europeia', 'flat:name'),\n",
              " ('e', 'cc'),\n",
              " ('os', 'det'),\n",
              " ('EUA', 'conj'),\n",
              " ('no', 'case'),\n",
              " ('Conselho', 'nmod'),\n",
              " ('de', 'case'),\n",
              " ('Comércio', 'nmod'),\n",
              " ('e', 'cc'),\n",
              " ('Tecnologia', 'conj'),\n",
              " (',', 'punct'),\n",
              " ('que', 'nsubj'),\n",
              " ('vão', 'aux'),\n",
              " ('acontecer', 'acl:relcl'),\n",
              " ('na', 'case'),\n",
              " ('quarta-feira', 'obl'),\n",
              " (',', 'punct'),\n",
              " ('29', 'appos'),\n",
              " ('de', 'case'),\n",
              " ('setembro', 'nmod'),\n",
              " (',', 'punct'),\n",
              " ('em', 'case'),\n",
              " ('Pittsburgh', 'obl'),\n",
              " ('.', 'punct')]"
            ]
          },
          "metadata": {},
          "execution_count": 15
        }
      ]
    },
    {
      "cell_type": "code",
      "metadata": {
        "id": "CWZU0r89WktW"
      },
      "source": [
        "visualizar_sintaxe = spacy.displacy.render(doc, style='dep')\n",
        "output_path = open('analise_dependencia.svg', 'w', encoding = 'utf-8')\n",
        "output_path.write(html)\n",
        "output_path.close()"
      ],
      "execution_count": 16,
      "outputs": []
    },
    {
      "cell_type": "code",
      "metadata": {
        "id": "YwVJlgVqNzjI"
      },
      "source": [
        "corpus = open('/content/drive/MyDrive/arquivos/TXT.txt').read() #importar o corpus"
      ],
      "execution_count": null,
      "outputs": []
    }
  ]
}